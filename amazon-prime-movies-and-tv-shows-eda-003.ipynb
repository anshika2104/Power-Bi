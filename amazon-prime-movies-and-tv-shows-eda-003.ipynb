{
 "cells": [
  {
   "cell_type": "code",
   "execution_count": 1,
   "id": "7ea534c6",
   "metadata": {
    "execution": {
     "iopub.execute_input": "2024-04-27T08:47:11.146875Z",
     "iopub.status.busy": "2024-04-27T08:47:11.145513Z",
     "iopub.status.idle": "2024-04-27T08:47:12.281337Z",
     "shell.execute_reply": "2024-04-27T08:47:12.280071Z"
    },
    "id": "9h8YyeWFsupP",
    "papermill": {
     "duration": 1.154297,
     "end_time": "2024-04-27T08:47:12.284491",
     "exception": false,
     "start_time": "2024-04-27T08:47:11.130194",
     "status": "completed"
    },
    "tags": []
   },
   "outputs": [],
   "source": [
    "# only pandas is required\n",
    "import pandas as pd"
   ]
  },
  {
   "cell_type": "code",
   "execution_count": 2,
   "id": "0724c746",
   "metadata": {
    "execution": {
     "iopub.execute_input": "2024-04-27T08:47:12.312918Z",
     "iopub.status.busy": "2024-04-27T08:47:12.312184Z",
     "iopub.status.idle": "2024-04-27T08:47:12.515132Z",
     "shell.execute_reply": "2024-04-27T08:47:12.513582Z"
    },
    "id": "TbCVbUYhs2AH",
    "papermill": {
     "duration": 0.222547,
     "end_time": "2024-04-27T08:47:12.519561",
     "exception": false,
     "start_time": "2024-04-27T08:47:12.297014",
     "status": "completed"
    },
    "tags": []
   },
   "outputs": [],
   "source": [
    "df = pd.read_csv('/kaggle/input/amazon-prime-movies-and-tv-shows/amazon_prime_titles.csv')"
   ]
  },
  {
   "cell_type": "code",
   "execution_count": 3,
   "id": "0ff42018",
   "metadata": {
    "execution": {
     "iopub.execute_input": "2024-04-27T08:47:12.545694Z",
     "iopub.status.busy": "2024-04-27T08:47:12.545216Z",
     "iopub.status.idle": "2024-04-27T08:47:12.560440Z",
     "shell.execute_reply": "2024-04-27T08:47:12.559051Z"
    },
    "id": "aTH3kNGTuLbE",
    "outputId": "6f848453-9908-4bb8-f1b2-5f7524668637",
    "papermill": {
     "duration": 0.031834,
     "end_time": "2024-04-27T08:47:12.563483",
     "exception": false,
     "start_time": "2024-04-27T08:47:12.531649",
     "status": "completed"
    },
    "tags": []
   },
   "outputs": [
    {
     "data": {
      "text/plain": [
       "Index(['Show_Id', 'Type', 'Title', 'Director', 'Cast', 'Country', 'Date_Added',\n",
       "       'Release_Year', 'Rating', 'Duration', 'Listed_In', 'Description'],\n",
       "      dtype='object')"
      ]
     },
     "execution_count": 3,
     "metadata": {},
     "output_type": "execute_result"
    }
   ],
   "source": [
    "def rename_col(s):\n",
    "    s = s.replace(' ', '_')\n",
    "    s = s.replace('-', '_')\n",
    "    a = s.split('_')\n",
    "    for i in range(len(a)):\n",
    "        if not all([c == c.upper() for c in a[i]]):\n",
    "            a[i] = a[i].capitalize()\n",
    "    return '_'.join(a)\n",
    "\n",
    "df.columns = [rename_col(c) for c in df.columns]\n",
    "df.columns"
   ]
  },
  {
   "cell_type": "code",
   "execution_count": 4,
   "id": "2adabd4a",
   "metadata": {
    "execution": {
     "iopub.execute_input": "2024-04-27T08:47:12.590798Z",
     "iopub.status.busy": "2024-04-27T08:47:12.590270Z",
     "iopub.status.idle": "2024-04-27T08:47:12.620325Z",
     "shell.execute_reply": "2024-04-27T08:47:12.618929Z"
    },
    "id": "dy-pdZk_7q8F",
    "outputId": "47ee8c5b-c7a3-4cb2-aaa9-356baeb057b3",
    "papermill": {
     "duration": 0.047163,
     "end_time": "2024-04-27T08:47:12.623259",
     "exception": false,
     "start_time": "2024-04-27T08:47:12.576096",
     "status": "completed"
    },
    "tags": []
   },
   "outputs": [
    {
     "data": {
      "text/html": [
       "<div>\n",
       "<style scoped>\n",
       "    .dataframe tbody tr th:only-of-type {\n",
       "        vertical-align: middle;\n",
       "    }\n",
       "\n",
       "    .dataframe tbody tr th {\n",
       "        vertical-align: top;\n",
       "    }\n",
       "\n",
       "    .dataframe thead th {\n",
       "        text-align: right;\n",
       "    }\n",
       "</style>\n",
       "<table border=\"1\" class=\"dataframe\">\n",
       "  <thead>\n",
       "    <tr style=\"text-align: right;\">\n",
       "      <th></th>\n",
       "      <th>Show_Id</th>\n",
       "      <th>Type</th>\n",
       "      <th>Title</th>\n",
       "      <th>Director</th>\n",
       "      <th>Cast</th>\n",
       "      <th>Country</th>\n",
       "      <th>Date_Added</th>\n",
       "      <th>Release_Year</th>\n",
       "      <th>Rating</th>\n",
       "      <th>Duration</th>\n",
       "      <th>Listed_In</th>\n",
       "      <th>Description</th>\n",
       "    </tr>\n",
       "  </thead>\n",
       "  <tbody>\n",
       "    <tr>\n",
       "      <th>0</th>\n",
       "      <td>s1</td>\n",
       "      <td>Movie</td>\n",
       "      <td>The Grand Seduction</td>\n",
       "      <td>Don McKellar</td>\n",
       "      <td>Brendan Gleeson, Taylor Kitsch, Gordon Pinsent</td>\n",
       "      <td>Canada</td>\n",
       "      <td>March 30, 2021</td>\n",
       "      <td>2014</td>\n",
       "      <td>NaN</td>\n",
       "      <td>113 min</td>\n",
       "      <td>Comedy, Drama</td>\n",
       "      <td>A small fishing village must procure a local d...</td>\n",
       "    </tr>\n",
       "    <tr>\n",
       "      <th>1</th>\n",
       "      <td>s2</td>\n",
       "      <td>Movie</td>\n",
       "      <td>Take Care Good Night</td>\n",
       "      <td>Girish Joshi</td>\n",
       "      <td>Mahesh Manjrekar, Abhay Mahajan, Sachin Khedekar</td>\n",
       "      <td>India</td>\n",
       "      <td>March 30, 2021</td>\n",
       "      <td>2018</td>\n",
       "      <td>13+</td>\n",
       "      <td>110 min</td>\n",
       "      <td>Drama, International</td>\n",
       "      <td>A Metro Family decides to fight a Cyber Crimin...</td>\n",
       "    </tr>\n",
       "    <tr>\n",
       "      <th>2</th>\n",
       "      <td>s3</td>\n",
       "      <td>Movie</td>\n",
       "      <td>Secrets of Deception</td>\n",
       "      <td>Josh Webber</td>\n",
       "      <td>Tom Sizemore, Lorenzo Lamas, Robert LaSardo, R...</td>\n",
       "      <td>United States</td>\n",
       "      <td>March 30, 2021</td>\n",
       "      <td>2017</td>\n",
       "      <td>NaN</td>\n",
       "      <td>74 min</td>\n",
       "      <td>Action, Drama, Suspense</td>\n",
       "      <td>After a man discovers his wife is cheating on ...</td>\n",
       "    </tr>\n",
       "    <tr>\n",
       "      <th>3</th>\n",
       "      <td>s4</td>\n",
       "      <td>Movie</td>\n",
       "      <td>Pink: Staying True</td>\n",
       "      <td>Sonia Anderson</td>\n",
       "      <td>Interviews with: Pink, Adele, Beyoncé, Britney...</td>\n",
       "      <td>United States</td>\n",
       "      <td>March 30, 2021</td>\n",
       "      <td>2014</td>\n",
       "      <td>NaN</td>\n",
       "      <td>69 min</td>\n",
       "      <td>Documentary</td>\n",
       "      <td>Pink breaks the mold once again, bringing her ...</td>\n",
       "    </tr>\n",
       "    <tr>\n",
       "      <th>4</th>\n",
       "      <td>s5</td>\n",
       "      <td>Movie</td>\n",
       "      <td>Monster Maker</td>\n",
       "      <td>Giles Foster</td>\n",
       "      <td>Harry Dean Stanton, Kieran O'Brien, George Cos...</td>\n",
       "      <td>United Kingdom</td>\n",
       "      <td>March 30, 2021</td>\n",
       "      <td>1989</td>\n",
       "      <td>NaN</td>\n",
       "      <td>45 min</td>\n",
       "      <td>Drama, Fantasy</td>\n",
       "      <td>Teenage Matt Banting wants to work with a famo...</td>\n",
       "    </tr>\n",
       "  </tbody>\n",
       "</table>\n",
       "</div>"
      ],
      "text/plain": [
       "  Show_Id   Type                 Title        Director  \\\n",
       "0      s1  Movie   The Grand Seduction    Don McKellar   \n",
       "1      s2  Movie  Take Care Good Night    Girish Joshi   \n",
       "2      s3  Movie  Secrets of Deception     Josh Webber   \n",
       "3      s4  Movie    Pink: Staying True  Sonia Anderson   \n",
       "4      s5  Movie         Monster Maker    Giles Foster   \n",
       "\n",
       "                                                Cast         Country  \\\n",
       "0     Brendan Gleeson, Taylor Kitsch, Gordon Pinsent          Canada   \n",
       "1   Mahesh Manjrekar, Abhay Mahajan, Sachin Khedekar           India   \n",
       "2  Tom Sizemore, Lorenzo Lamas, Robert LaSardo, R...   United States   \n",
       "3  Interviews with: Pink, Adele, Beyoncé, Britney...   United States   \n",
       "4  Harry Dean Stanton, Kieran O'Brien, George Cos...  United Kingdom   \n",
       "\n",
       "       Date_Added  Release_Year Rating Duration                Listed_In  \\\n",
       "0  March 30, 2021          2014    NaN  113 min            Comedy, Drama   \n",
       "1  March 30, 2021          2018    13+  110 min     Drama, International   \n",
       "2  March 30, 2021          2017    NaN   74 min  Action, Drama, Suspense   \n",
       "3  March 30, 2021          2014    NaN   69 min              Documentary   \n",
       "4  March 30, 2021          1989    NaN   45 min           Drama, Fantasy   \n",
       "\n",
       "                                         Description  \n",
       "0  A small fishing village must procure a local d...  \n",
       "1  A Metro Family decides to fight a Cyber Crimin...  \n",
       "2  After a man discovers his wife is cheating on ...  \n",
       "3  Pink breaks the mold once again, bringing her ...  \n",
       "4  Teenage Matt Banting wants to work with a famo...  "
      ]
     },
     "execution_count": 4,
     "metadata": {},
     "output_type": "execute_result"
    }
   ],
   "source": [
    "df.head()"
   ]
  },
  {
   "cell_type": "markdown",
   "id": "cd9d2952",
   "metadata": {
    "id": "i--k8tRAtGmi",
    "papermill": {
     "duration": 0.013961,
     "end_time": "2024-04-27T08:47:12.649958",
     "exception": false,
     "start_time": "2024-04-27T08:47:12.635997",
     "status": "completed"
    },
    "tags": []
   },
   "source": [
    "# Distribution of Content by Type\n",
    "\n",
    "How does the distribution of movies compare to TV shows on Amazon Prime?"
   ]
  },
  {
   "cell_type": "code",
   "execution_count": 5,
   "id": "3d45782c",
   "metadata": {
    "execution": {
     "iopub.execute_input": "2024-04-27T08:47:12.678522Z",
     "iopub.status.busy": "2024-04-27T08:47:12.678065Z",
     "iopub.status.idle": "2024-04-27T08:47:13.033907Z",
     "shell.execute_reply": "2024-04-27T08:47:13.032463Z"
    },
    "id": "w4rAaKsluUIo",
    "outputId": "f2254baf-a00b-4b6e-d9ef-0c3e584e6e56",
    "papermill": {
     "duration": 0.374049,
     "end_time": "2024-04-27T08:47:13.036893",
     "exception": false,
     "start_time": "2024-04-27T08:47:12.662844",
     "status": "completed"
    },
    "tags": []
   },
   "outputs": [
    {
     "data": {
      "image/png": "[encoded data removed]",
      "text/plain": [
       "<Figure size 900x400 with 1 Axes>"
      ]
     },
     "metadata": {},
     "output_type": "display_data"
    }
   ],
   "source": [
    "ax = df.Type.value_counts().plot(kind='barh', figsize=(9,4))\n",
    "\n",
    "for container in ax.containers:\n",
    "    ax.bar_label(container)"
   ]
  },
  {
   "cell_type": "markdown",
   "id": "0664ed20",
   "metadata": {
    "id": "-Ub5OQI-tLCm",
    "papermill": {
     "duration": 0.012259,
     "end_time": "2024-04-27T08:47:13.063437",
     "exception": false,
     "start_time": "2024-04-27T08:47:13.051178",
     "status": "completed"
    },
    "tags": []
   },
   "source": [
    "# Release Year Analysis\n",
    "What is the trend in the number of titles added over the years? Are newer or older titles more prevalent?\n"
   ]
  },
  {
   "cell_type": "code",
   "execution_count": 6,
   "id": "60b26975",
   "metadata": {
    "execution": {
     "iopub.execute_input": "2024-04-27T08:47:13.092254Z",
     "iopub.status.busy": "2024-04-27T08:47:13.091775Z",
     "iopub.status.idle": "2024-04-27T08:47:13.424291Z",
     "shell.execute_reply": "2024-04-27T08:47:13.423012Z"
    },
    "id": "bh00KnV8vbXX",
    "outputId": "3ebcf010-e0ac-446b-f034-c2bc15119044",
    "papermill": {
     "duration": 0.350817,
     "end_time": "2024-04-27T08:47:13.427754",
     "exception": false,
     "start_time": "2024-04-27T08:47:13.076937",
     "status": "completed"
    },
    "tags": []
   },
   "outputs": [
    {
     "data": {
      "text/plain": [
       "<Axes: xlabel='Release_Year'>"
      ]
     },
     "execution_count": 6,
     "metadata": {},
     "output_type": "execute_result"
    },
    {
     "data": {
      "image/png": "[encoded data removed]",
      "text/plain": [
       "<Figure size 640x480 with 1 Axes>"
      ]
     },
     "metadata": {},
     "output_type": "display_data"
    }
   ],
   "source": [
    "df.groupby('Release_Year').count()['Show_Id'].plot(kind='line')"
   ]
  },
  {
   "cell_type": "markdown",
   "id": "63059bc9",
   "metadata": {
    "id": "VJEIVpaptOko",
    "papermill": {
     "duration": 0.014678,
     "end_time": "2024-04-27T08:47:13.455929",
     "exception": false,
     "start_time": "2024-04-27T08:47:13.441251",
     "status": "completed"
    },
    "tags": []
   },
   "source": [
    "# Country-specific Content\n",
    "Which countries produce the most content available on Amazon Prime? How does content variety differ by country?\n"
   ]
  },
  {
   "cell_type": "code",
   "execution_count": 7,
   "id": "e9b9cfcc",
   "metadata": {
    "execution": {
     "iopub.execute_input": "2024-04-27T08:47:13.488893Z",
     "iopub.status.busy": "2024-04-27T08:47:13.487421Z",
     "iopub.status.idle": "2024-04-27T08:47:13.830428Z",
     "shell.execute_reply": "2024-04-27T08:47:13.827196Z"
    },
    "id": "_x8Vje_cta2W",
    "outputId": "c1ede602-5213-4e32-fe37-7bd473e17a85",
    "papermill": {
     "duration": 0.362767,
     "end_time": "2024-04-27T08:47:13.833554",
     "exception": false,
     "start_time": "2024-04-27T08:47:13.470787",
     "status": "completed"
    },
    "tags": []
   },
   "outputs": [
    {
     "data": {
      "text/plain": [
       "<Axes: ylabel='Country'>"
      ]
     },
     "execution_count": 7,
     "metadata": {},
     "output_type": "execute_result"
    },
    {
     "data": {
      "image/png": "[encoded data removed]",
      "text/plain": [
       "<Figure size 640x480 with 1 Axes>"
      ]
     },
     "metadata": {},
     "output_type": "display_data"
    }
   ],
   "source": [
    "df.groupby('Country').count()['Show_Id'].nlargest(10).sort_values().plot(kind='barh')"
   ]
  },
  {
   "cell_type": "markdown",
   "id": "91005847",
   "metadata": {
    "id": "cCo5k5Xatc0V",
    "papermill": {
     "duration": 0.013954,
     "end_time": "2024-04-27T08:47:13.862353",
     "exception": false,
     "start_time": "2024-04-27T08:47:13.848399",
     "status": "completed"
    },
    "tags": []
   },
   "source": [
    "# Ratings Analysis\n",
    "What are the most common ratings (e.g., PG, 18+) for titles on Amazon Prime, and what does this suggest about the target audience?\n"
   ]
  },
  {
   "cell_type": "code",
   "execution_count": 8,
   "id": "46038101",
   "metadata": {
    "execution": {
     "iopub.execute_input": "2024-04-27T08:47:13.894870Z",
     "iopub.status.busy": "2024-04-27T08:47:13.893923Z",
     "iopub.status.idle": "2024-04-27T08:47:14.204434Z",
     "shell.execute_reply": "2024-04-27T08:47:14.202991Z"
    },
    "id": "X1FX2H7wwscD",
    "outputId": "8ea0b3ad-6797-46cd-925e-092213366e4f",
    "papermill": {
     "duration": 0.330821,
     "end_time": "2024-04-27T08:47:14.207992",
     "exception": false,
     "start_time": "2024-04-27T08:47:13.877171",
     "status": "completed"
    },
    "tags": []
   },
   "outputs": [
    {
     "data": {
      "text/plain": [
       "<Axes: ylabel='Rating'>"
      ]
     },
     "execution_count": 8,
     "metadata": {},
     "output_type": "execute_result"
    },
    {
     "data": {
      "image/png": "[encoded data removed]",
      "text/plain": [
       "<Figure size 640x480 with 1 Axes>"
      ]
     },
     "metadata": {},
     "output_type": "display_data"
    }
   ],
   "source": [
    "df.groupby('Rating').count().Show_Id.nlargest(10).sort_values().plot(kind='barh')"
   ]
  },
  {
   "cell_type": "markdown",
   "id": "bd81bee5",
   "metadata": {
    "id": "iOkyb-nDteql",
    "papermill": {
     "duration": 0.014434,
     "end_time": "2024-04-27T08:47:14.237498",
     "exception": false,
     "start_time": "2024-04-27T08:47:14.223064",
     "status": "completed"
    },
    "tags": []
   },
   "source": [
    "# Duration Insights\n",
    "\n",
    "What is the typical duration of movies versus TV shows? Are there any trends in duration over the years?\n"
   ]
  },
  {
   "cell_type": "code",
   "execution_count": 9,
   "id": "2aaec0d6",
   "metadata": {
    "execution": {
     "iopub.execute_input": "2024-04-27T08:47:14.270911Z",
     "iopub.status.busy": "2024-04-27T08:47:14.269940Z",
     "iopub.status.idle": "2024-04-27T08:47:14.280825Z",
     "shell.execute_reply": "2024-04-27T08:47:14.279914Z"
    },
    "id": "VGJLgtlY5ewN",
    "outputId": "b93fc14b-9b56-4f3a-f32b-13348d6e052a",
    "papermill": {
     "duration": 0.030136,
     "end_time": "2024-04-27T08:47:14.283312",
     "exception": false,
     "start_time": "2024-04-27T08:47:14.253176",
     "status": "completed"
    },
    "tags": []
   },
   "outputs": [
    {
     "data": {
      "text/plain": [
       "array(['Movie', 'TV Show'], dtype=object)"
      ]
     },
     "execution_count": 9,
     "metadata": {},
     "output_type": "execute_result"
    }
   ],
   "source": [
    "df.Type.unique()"
   ]
  },
  {
   "cell_type": "code",
   "execution_count": 10,
   "id": "c32516c9",
   "metadata": {
    "execution": {
     "iopub.execute_input": "2024-04-27T08:47:14.315187Z",
     "iopub.status.busy": "2024-04-27T08:47:14.314191Z",
     "iopub.status.idle": "2024-04-27T08:47:14.343727Z",
     "shell.execute_reply": "2024-04-27T08:47:14.342233Z"
    },
    "id": "VyPFBrVz1IBc",
    "papermill": {
     "duration": 0.049285,
     "end_time": "2024-04-27T08:47:14.346971",
     "exception": false,
     "start_time": "2024-04-27T08:47:14.297686",
     "status": "completed"
    },
    "tags": []
   },
   "outputs": [],
   "source": [
    "a = df.Duration.str.split(expand=True)\n",
    "df['Duration_Num'] = a[0].astype(int)\n",
    "df['Duration_Unit'] = a[1]"
   ]
  },
  {
   "cell_type": "code",
   "execution_count": 11,
   "id": "183200fa",
   "metadata": {
    "execution": {
     "iopub.execute_input": "2024-04-27T08:47:14.379751Z",
     "iopub.status.busy": "2024-04-27T08:47:14.379337Z",
     "iopub.status.idle": "2024-04-27T08:47:14.739985Z",
     "shell.execute_reply": "2024-04-27T08:47:14.738640Z"
    },
    "id": "3DJ79zqV4qxa",
    "outputId": "020b5b9b-b51a-4369-d56f-038df58c0f69",
    "papermill": {
     "duration": 0.380937,
     "end_time": "2024-04-27T08:47:14.742832",
     "exception": false,
     "start_time": "2024-04-27T08:47:14.361895",
     "status": "completed"
    },
    "tags": []
   },
   "outputs": [
    {
     "data": {
      "image/png": "[encoded data removed]",
      "text/plain": [
       "<Figure size 640x480 with 1 Axes>"
      ]
     },
     "metadata": {},
     "output_type": "display_data"
    }
   ],
   "source": [
    "ax = df[df.Type == 'Movie'].Duration_Num.plot(kind='hist', xlabel='Minutes')\n",
    "for container in ax.containers:\n",
    "    ax.bar_label(container)"
   ]
  },
  {
   "cell_type": "code",
   "execution_count": 12,
   "id": "56c02b25",
   "metadata": {
    "execution": {
     "iopub.execute_input": "2024-04-27T08:47:14.775442Z",
     "iopub.status.busy": "2024-04-27T08:47:14.775033Z",
     "iopub.status.idle": "2024-04-27T08:47:15.158215Z",
     "shell.execute_reply": "2024-04-27T08:47:15.156794Z"
    },
    "id": "WXQkLeyJ5QqI",
    "outputId": "8f185d4d-2e12-45c7-891f-5c6a831de75c",
    "papermill": {
     "duration": 0.402835,
     "end_time": "2024-04-27T08:47:15.161008",
     "exception": false,
     "start_time": "2024-04-27T08:47:14.758173",
     "status": "completed"
    },
    "tags": []
   },
   "outputs": [
    {
     "data": {
      "image/png": "[encoded data removed]",
      "text/plain": [
       "<Figure size 640x480 with 1 Axes>"
      ]
     },
     "metadata": {},
     "output_type": "display_data"
    }
   ],
   "source": [
    "ax = df[df.Type == 'TV Show'].Duration_Num.plot(kind='hist', xlabel='Seasons')\n",
    "for container in ax.containers:\n",
    "    ax.bar_label(container)"
   ]
  },
  {
   "cell_type": "markdown",
   "id": "9e10bd99",
   "metadata": {
    "id": "NrRKl09PtjiB",
    "papermill": {
     "duration": 0.01554,
     "end_time": "2024-04-27T08:47:15.192378",
     "exception": false,
     "start_time": "2024-04-27T08:47:15.176838",
     "status": "completed"
    },
    "tags": []
   },
   "source": [
    "# Genre Popularity\n",
    "\n",
    "What genres are most common on Amazon Prime? Are there specific genres that are trending in recent additions?\n"
   ]
  },
  {
   "cell_type": "code",
   "execution_count": 13,
   "id": "b1c8ae55",
   "metadata": {
    "execution": {
     "iopub.execute_input": "2024-04-27T08:47:15.226017Z",
     "iopub.status.busy": "2024-04-27T08:47:15.225544Z",
     "iopub.status.idle": "2024-04-27T08:47:15.234716Z",
     "shell.execute_reply": "2024-04-27T08:47:15.233444Z"
    },
    "id": "L2sgYc0r7-jT",
    "outputId": "413f2bf6-acc0-48b3-c433-6541591b16f8",
    "papermill": {
     "duration": 0.029254,
     "end_time": "2024-04-27T08:47:15.237444",
     "exception": false,
     "start_time": "2024-04-27T08:47:15.208190",
     "status": "completed"
    },
    "tags": []
   },
   "outputs": [
    {
     "data": {
      "text/plain": [
       "0              Comedy, Drama\n",
       "1       Drama, International\n",
       "2    Action, Drama, Suspense\n",
       "3                Documentary\n",
       "4             Drama, Fantasy\n",
       "Name: Listed_In, dtype: object"
      ]
     },
     "execution_count": 13,
     "metadata": {},
     "output_type": "execute_result"
    }
   ],
   "source": [
    "df.Listed_In.head()"
   ]
  },
  {
   "cell_type": "code",
   "execution_count": 14,
   "id": "45cda235",
   "metadata": {
    "execution": {
     "iopub.execute_input": "2024-04-27T08:47:15.271908Z",
     "iopub.status.busy": "2024-04-27T08:47:15.270985Z",
     "iopub.status.idle": "2024-04-27T08:47:15.287749Z",
     "shell.execute_reply": "2024-04-27T08:47:15.286514Z"
    },
    "id": "qJ_QI28g9Z2u",
    "outputId": "3b253faf-269d-4b91-ed62-25e21475c16b",
    "papermill": {
     "duration": 0.037415,
     "end_time": "2024-04-27T08:47:15.290752",
     "exception": false,
     "start_time": "2024-04-27T08:47:15.253337",
     "status": "completed"
    },
    "tags": []
   },
   "outputs": [
    {
     "data": {
      "text/plain": [
       "22        Arts, Entertainment, and Culture, Comedy, Drama\n",
       "53      Arts, Entertainment, and Culture, Comedy, Talk...\n",
       "93               Arts, Entertainment, and Culture, Comedy\n",
       "94      Arts, Entertainment, and Culture, Comedy, Spec...\n",
       "107                      Arts, Entertainment, and Culture\n",
       "                              ...                        \n",
       "9545        Arts, Entertainment, and Culture, Documentary\n",
       "9620    Arts, Entertainment, and Culture, Comedy, Scie...\n",
       "9621             Arts, Entertainment, and Culture, Comedy\n",
       "9630    Arts, Entertainment, and Culture, Kids, Scienc...\n",
       "9647             Arts, Entertainment, and Culture, Comedy\n",
       "Name: Listed_In, Length: 483, dtype: object"
      ]
     },
     "execution_count": 14,
     "metadata": {},
     "output_type": "execute_result"
    }
   ],
   "source": [
    "df.Listed_In[df.Listed_In.str.contains('and Culture')]"
   ]
  },
  {
   "cell_type": "code",
   "execution_count": 15,
   "id": "e2110f88",
   "metadata": {
    "execution": {
     "iopub.execute_input": "2024-04-27T08:47:15.325077Z",
     "iopub.status.busy": "2024-04-27T08:47:15.324311Z",
     "iopub.status.idle": "2024-04-27T08:47:15.341824Z",
     "shell.execute_reply": "2024-04-27T08:47:15.340568Z"
    },
    "id": "BsSXfcCg-PbO",
    "papermill": {
     "duration": 0.038324,
     "end_time": "2024-04-27T08:47:15.344919",
     "exception": false,
     "start_time": "2024-04-27T08:47:15.306595",
     "status": "completed"
    },
    "tags": []
   },
   "outputs": [],
   "source": [
    "df.Listed_In.replace('Arts, Entertainment, and Culture', 'Arts Entertainment and Culture', regex=True, inplace=True)"
   ]
  },
  {
   "cell_type": "code",
   "execution_count": 16,
   "id": "028f0951",
   "metadata": {
    "execution": {
     "iopub.execute_input": "2024-04-27T08:47:15.379450Z",
     "iopub.status.busy": "2024-04-27T08:47:15.378723Z",
     "iopub.status.idle": "2024-04-27T08:47:15.413409Z",
     "shell.execute_reply": "2024-04-27T08:47:15.412184Z"
    },
    "id": "BRY8zfSz8ETE",
    "outputId": "4f4dd8f3-2e41-4914-edec-01e1f17f2c5b",
    "papermill": {
     "duration": 0.055398,
     "end_time": "2024-04-27T08:47:15.416327",
     "exception": false,
     "start_time": "2024-04-27T08:47:15.360929",
     "status": "completed"
    },
    "tags": []
   },
   "outputs": [
    {
     "data": {
      "text/html": [
       "<div>\n",
       "<style scoped>\n",
       "    .dataframe tbody tr th:only-of-type {\n",
       "        vertical-align: middle;\n",
       "    }\n",
       "\n",
       "    .dataframe tbody tr th {\n",
       "        vertical-align: top;\n",
       "    }\n",
       "\n",
       "    .dataframe thead th {\n",
       "        text-align: right;\n",
       "    }\n",
       "</style>\n",
       "<table border=\"1\" class=\"dataframe\">\n",
       "  <thead>\n",
       "    <tr style=\"text-align: right;\">\n",
       "      <th></th>\n",
       "      <th>0</th>\n",
       "      <th>1</th>\n",
       "      <th>2</th>\n",
       "    </tr>\n",
       "  </thead>\n",
       "  <tbody>\n",
       "    <tr>\n",
       "      <th>0</th>\n",
       "      <td>Comedy</td>\n",
       "      <td>Drama</td>\n",
       "      <td>None</td>\n",
       "    </tr>\n",
       "    <tr>\n",
       "      <th>1</th>\n",
       "      <td>Drama</td>\n",
       "      <td>International</td>\n",
       "      <td>None</td>\n",
       "    </tr>\n",
       "    <tr>\n",
       "      <th>2</th>\n",
       "      <td>Action</td>\n",
       "      <td>Drama</td>\n",
       "      <td>Suspense</td>\n",
       "    </tr>\n",
       "    <tr>\n",
       "      <th>3</th>\n",
       "      <td>Documentary</td>\n",
       "      <td>None</td>\n",
       "      <td>None</td>\n",
       "    </tr>\n",
       "    <tr>\n",
       "      <th>4</th>\n",
       "      <td>Drama</td>\n",
       "      <td>Fantasy</td>\n",
       "      <td>None</td>\n",
       "    </tr>\n",
       "  </tbody>\n",
       "</table>\n",
       "</div>"
      ],
      "text/plain": [
       "             0              1         2\n",
       "0       Comedy          Drama      None\n",
       "1        Drama  International      None\n",
       "2       Action          Drama  Suspense\n",
       "3  Documentary           None      None\n",
       "4        Drama        Fantasy      None"
      ]
     },
     "execution_count": 16,
     "metadata": {},
     "output_type": "execute_result"
    }
   ],
   "source": [
    "a = df.Listed_In.str.split(', ', expand=True)\n",
    "a.head()"
   ]
  },
  {
   "cell_type": "code",
   "execution_count": 17,
   "id": "8ffec233",
   "metadata": {
    "execution": {
     "iopub.execute_input": "2024-04-27T08:47:15.451363Z",
     "iopub.status.busy": "2024-04-27T08:47:15.450910Z",
     "iopub.status.idle": "2024-04-27T08:47:15.467280Z",
     "shell.execute_reply": "2024-04-27T08:47:15.465906Z"
    },
    "id": "A2ZMSSjt8kQu",
    "outputId": "0f734df2-9c1f-4e72-cdd3-84a94d82141c",
    "papermill": {
     "duration": 0.037588,
     "end_time": "2024-04-27T08:47:15.470284",
     "exception": false,
     "start_time": "2024-04-27T08:47:15.432696",
     "status": "completed"
    },
    "tags": []
   },
   "outputs": [
    {
     "data": {
      "text/plain": [
       "0                             Comedy\n",
       "1                              Drama\n",
       "2                             Action\n",
       "3                        Documentary\n",
       "4                            Fantasy\n",
       "5                          Adventure\n",
       "6                             Horror\n",
       "7                               Kids\n",
       "8                    Science Fiction\n",
       "9     Arts Entertainment and Culture\n",
       "10                          TV Shows\n",
       "11                         Animation\n",
       "12                             Anime\n",
       "13         Music Videos and Concerts\n",
       "14                           Fitness\n",
       "15            Faith and Spirituality\n",
       "16                  Special Interest\n",
       "17                          Suspense\n",
       "18                        Unscripted\n",
       "19                           Western\n",
       "20                          Arthouse\n",
       "21                            Sports\n",
       "22                  Military and War\n",
       "23                     International\n",
       "24                           Romance\n",
       "25              Young Adult Audience\n",
       "26             Talk Show and Variety\n",
       "27                             LGBTQ\n",
       "28                        Historical\n",
       "dtype: object"
      ]
     },
     "execution_count": 17,
     "metadata": {},
     "output_type": "execute_result"
    }
   ],
   "source": [
    "genre = pd.concat([pd.Series(a[i].unique()) for i in range(len(a.columns))])\n",
    "genre = pd.Series(genre.dropna().unique())\n",
    "genre"
   ]
  },
  {
   "cell_type": "code",
   "execution_count": 18,
   "id": "d707d037",
   "metadata": {
    "execution": {
     "iopub.execute_input": "2024-04-27T08:47:15.506569Z",
     "iopub.status.busy": "2024-04-27T08:47:15.506088Z",
     "iopub.status.idle": "2024-04-27T08:47:40.403013Z",
     "shell.execute_reply": "2024-04-27T08:47:40.401713Z"
    },
    "id": "RaQFYYeC9C3d",
    "outputId": "9c773ff2-8e43-4e74-9775-d02a80d45637",
    "papermill": {
     "duration": 24.918575,
     "end_time": "2024-04-27T08:47:40.406234",
     "exception": false,
     "start_time": "2024-04-27T08:47:15.487659",
     "status": "completed"
    },
    "tags": []
   },
   "outputs": [
    {
     "data": {
      "text/html": [
       "<div>\n",
       "<style scoped>\n",
       "    .dataframe tbody tr th:only-of-type {\n",
       "        vertical-align: middle;\n",
       "    }\n",
       "\n",
       "    .dataframe tbody tr th {\n",
       "        vertical-align: top;\n",
       "    }\n",
       "\n",
       "    .dataframe thead th {\n",
       "        text-align: right;\n",
       "    }\n",
       "</style>\n",
       "<table border=\"1\" class=\"dataframe\">\n",
       "  <thead>\n",
       "    <tr style=\"text-align: right;\">\n",
       "      <th></th>\n",
       "      <th>Listed_In</th>\n",
       "      <th>Comedy</th>\n",
       "      <th>Drama</th>\n",
       "      <th>International</th>\n",
       "      <th>Action</th>\n",
       "      <th>Suspense</th>\n",
       "      <th>Documentary</th>\n",
       "      <th>Fantasy</th>\n",
       "    </tr>\n",
       "  </thead>\n",
       "  <tbody>\n",
       "    <tr>\n",
       "      <th>0</th>\n",
       "      <td>Comedy, Drama</td>\n",
       "      <td>1</td>\n",
       "      <td>1</td>\n",
       "      <td>0</td>\n",
       "      <td>0</td>\n",
       "      <td>0</td>\n",
       "      <td>0</td>\n",
       "      <td>0</td>\n",
       "    </tr>\n",
       "    <tr>\n",
       "      <th>1</th>\n",
       "      <td>Drama, International</td>\n",
       "      <td>0</td>\n",
       "      <td>1</td>\n",
       "      <td>1</td>\n",
       "      <td>0</td>\n",
       "      <td>0</td>\n",
       "      <td>0</td>\n",
       "      <td>0</td>\n",
       "    </tr>\n",
       "    <tr>\n",
       "      <th>2</th>\n",
       "      <td>Action, Drama, Suspense</td>\n",
       "      <td>0</td>\n",
       "      <td>1</td>\n",
       "      <td>0</td>\n",
       "      <td>1</td>\n",
       "      <td>1</td>\n",
       "      <td>0</td>\n",
       "      <td>0</td>\n",
       "    </tr>\n",
       "    <tr>\n",
       "      <th>3</th>\n",
       "      <td>Documentary</td>\n",
       "      <td>0</td>\n",
       "      <td>0</td>\n",
       "      <td>0</td>\n",
       "      <td>0</td>\n",
       "      <td>0</td>\n",
       "      <td>1</td>\n",
       "      <td>0</td>\n",
       "    </tr>\n",
       "    <tr>\n",
       "      <th>4</th>\n",
       "      <td>Drama, Fantasy</td>\n",
       "      <td>0</td>\n",
       "      <td>1</td>\n",
       "      <td>0</td>\n",
       "      <td>0</td>\n",
       "      <td>0</td>\n",
       "      <td>0</td>\n",
       "      <td>1</td>\n",
       "    </tr>\n",
       "  </tbody>\n",
       "</table>\n",
       "</div>"
      ],
      "text/plain": [
       "                 Listed_In  Comedy  Drama  International  Action  Suspense  \\\n",
       "0            Comedy, Drama       1      1              0       0         0   \n",
       "1     Drama, International       0      1              1       0         0   \n",
       "2  Action, Drama, Suspense       0      1              0       1         1   \n",
       "3              Documentary       0      0              0       0         0   \n",
       "4           Drama, Fantasy       0      1              0       0         0   \n",
       "\n",
       "   Documentary  Fantasy  \n",
       "0            0        0  \n",
       "1            0        0  \n",
       "2            0        0  \n",
       "3            1        0  \n",
       "4            0        1  "
      ]
     },
     "execution_count": 18,
     "metadata": {},
     "output_type": "execute_result"
    }
   ],
   "source": [
    "for g in genre:\n",
    "  df[rename_col(g)] = a.apply(lambda x : 1 if sum(x == g) > 0 else 0, axis=1)\n",
    "\n",
    "df[['Listed_In', 'Comedy', 'Drama', 'International', 'Action', 'Suspense', 'Documentary', 'Fantasy']].head()"
   ]
  },
  {
   "cell_type": "code",
   "execution_count": 19,
   "id": "b0771617",
   "metadata": {
    "execution": {
     "iopub.execute_input": "2024-04-27T08:47:40.444987Z",
     "iopub.status.busy": "2024-04-27T08:47:40.444428Z",
     "iopub.status.idle": "2024-04-27T08:47:40.835031Z",
     "shell.execute_reply": "2024-04-27T08:47:40.833637Z"
    },
    "id": "WLzA5EFP5-mX",
    "outputId": "7aadc05e-4c28-4ec7-c5ae-7e9a4dcbb4c0",
    "papermill": {
     "duration": 0.413416,
     "end_time": "2024-04-27T08:47:40.838016",
     "exception": false,
     "start_time": "2024-04-27T08:47:40.424600",
     "status": "completed"
    },
    "tags": []
   },
   "outputs": [
    {
     "data": {
      "text/plain": [
       "<Axes: >"
      ]
     },
     "execution_count": 19,
     "metadata": {},
     "output_type": "execute_result"
    },
    {
     "data": {
      "image/png": "[encoded data removed]",
      "text/plain": [
       "<Figure size 640x480 with 1 Axes>"
      ]
     },
     "metadata": {},
     "output_type": "display_data"
    }
   ],
   "source": [
    "genre = genre.apply(rename_col)\n",
    "a = [sum(df[g]) for g in genre]\n",
    "a = pd.DataFrame(a, index=genre)\n",
    "a[0].nlargest(10).sort_values().plot(kind='barh')"
   ]
  },
  {
   "cell_type": "markdown",
   "id": "2bf26eff",
   "metadata": {
    "id": "8-_oNcPVtm8O",
    "papermill": {
     "duration": 0.018267,
     "end_time": "2024-04-27T08:47:40.875134",
     "exception": false,
     "start_time": "2024-04-27T08:47:40.856867",
     "status": "completed"
    },
    "tags": []
   },
   "source": [
    "# Directorial Impact\n",
    "\n",
    "Are there any directors who are particularly prolific on Amazon Prime? How does the presence of well-known directors affect the ratings of titles?\n"
   ]
  },
  {
   "cell_type": "code",
   "execution_count": 20,
   "id": "287dc919",
   "metadata": {
    "execution": {
     "iopub.execute_input": "2024-04-27T08:47:40.915472Z",
     "iopub.status.busy": "2024-04-27T08:47:40.914703Z",
     "iopub.status.idle": "2024-04-27T08:47:40.933677Z",
     "shell.execute_reply": "2024-04-27T08:47:40.932354Z"
    },
    "id": "N0AX2ZhsBi--",
    "outputId": "71872282-5f5c-4899-e027-31ba8e478d58",
    "papermill": {
     "duration": 0.042773,
     "end_time": "2024-04-27T08:47:40.936649",
     "exception": false,
     "start_time": "2024-04-27T08:47:40.893876",
     "status": "completed"
    },
    "tags": []
   },
   "outputs": [
    {
     "data": {
      "text/plain": [
       "Director\n",
       "Mark Knight              113\n",
       "Cannis Holder             61\n",
       "Moonbug Entertainment     37\n",
       "Jay Chapman               34\n",
       "Arthur van Merwijk        30\n",
       "Manny Rodriguez           22\n",
       "John English              20\n",
       "1                         16\n",
       "Brian Volk-Weiss          15\n",
       "Baeble Music              14\n",
       "Name: count, dtype: int64"
      ]
     },
     "execution_count": 20,
     "metadata": {},
     "output_type": "execute_result"
    }
   ],
   "source": [
    "df.Director.value_counts().nlargest(10)"
   ]
  },
  {
   "cell_type": "markdown",
   "id": "b1bd01d3",
   "metadata": {
    "id": "pL5SEQOXtpkt",
    "papermill": {
     "duration": 0.019426,
     "end_time": "2024-04-27T08:47:40.974670",
     "exception": false,
     "start_time": "2024-04-27T08:47:40.955244",
     "status": "completed"
    },
    "tags": []
   },
   "source": [
    "# Cast Influence\n",
    "How does the presence of certain actors correlate with the popularity or ratings of the titles?\n"
   ]
  },
  {
   "cell_type": "markdown",
   "id": "d40dabdf",
   "metadata": {
    "id": "ONjyAoZyts7l",
    "papermill": {
     "duration": 0.019359,
     "end_time": "2024-04-27T08:47:41.012503",
     "exception": false,
     "start_time": "2024-04-27T08:47:40.993144",
     "status": "completed"
    },
    "tags": []
   },
   "source": [
    "# Temporal Trends in Content Addition\n",
    "\n",
    "How has the rate of adding new titles changed over time? Is there seasonality in when content is added to Amazon Prime?\n"
   ]
  },
  {
   "cell_type": "code",
   "execution_count": 21,
   "id": "d9d37cd7",
   "metadata": {
    "execution": {
     "iopub.execute_input": "2024-04-27T08:47:41.049547Z",
     "iopub.status.busy": "2024-04-27T08:47:41.049067Z",
     "iopub.status.idle": "2024-04-27T08:47:41.356917Z",
     "shell.execute_reply": "2024-04-27T08:47:41.355753Z"
    },
    "id": "lL2tGuYUGpzF",
    "outputId": "b06f43e6-af3d-4a75-d8e7-9e40cbf25bb9",
    "papermill": {
     "duration": 0.329835,
     "end_time": "2024-04-27T08:47:41.359827",
     "exception": false,
     "start_time": "2024-04-27T08:47:41.029992",
     "status": "completed"
    },
    "tags": []
   },
   "outputs": [
    {
     "data": {
      "text/plain": [
       "<Axes: xlabel='Month', ylabel='Date_Added'>"
      ]
     },
     "execution_count": 21,
     "metadata": {},
     "output_type": "execute_result"
    },
    {
     "data": {
      "image/png": "[encoded data removed]",
      "text/plain": [
       "<Figure size 640x480 with 1 Axes>"
      ]
     },
     "metadata": {},
     "output_type": "display_data"
    }
   ],
   "source": [
    "df.Date_Added = pd.to_datetime(df.Date_Added)\n",
    "df.groupby(df.Date_Added.dt.month).count().Show_Id.sort_index(ascending=False).plot(kind='barh', xlabel='Month')"
   ]
  },
  {
   "cell_type": "code",
   "execution_count": 22,
   "id": "9c0b6db1",
   "metadata": {
    "execution": {
     "iopub.execute_input": "2024-04-27T08:47:41.400268Z",
     "iopub.status.busy": "2024-04-27T08:47:41.399818Z",
     "iopub.status.idle": "2024-04-27T08:47:41.410299Z",
     "shell.execute_reply": "2024-04-27T08:47:41.408980Z"
    },
    "id": "hpEMk5KvHurm",
    "outputId": "c61b5e86-df79-48ec-da75-1b9a497b2990",
    "papermill": {
     "duration": 0.035609,
     "end_time": "2024-04-27T08:47:41.413693",
     "exception": false,
     "start_time": "2024-04-27T08:47:41.378084",
     "status": "completed"
    },
    "tags": []
   },
   "outputs": [
    {
     "data": {
      "text/plain": [
       "9513"
      ]
     },
     "execution_count": 22,
     "metadata": {},
     "output_type": "execute_result"
    }
   ],
   "source": [
    "sum(df.Date_Added.isna())"
   ]
  },
  {
   "cell_type": "markdown",
   "id": "1a5051e3",
   "metadata": {
    "id": "1V9GbMUytxbj",
    "papermill": {
     "duration": 0.018703,
     "end_time": "2024-04-27T08:47:41.452396",
     "exception": false,
     "start_time": "2024-04-27T08:47:41.433693",
     "status": "completed"
    },
    "tags": []
   },
   "source": [
    "# Descriptive Analytics\n",
    "\n",
    "What can the descriptions of the titles reveal about the themes or focus areas of Amazon Prime content? Can we identify common keywords or themes across top-rated titles?\n"
   ]
  },
  {
   "cell_type": "code",
   "execution_count": 23,
   "id": "98bc6e52",
   "metadata": {
    "execution": {
     "iopub.execute_input": "2024-04-27T08:47:41.492384Z",
     "iopub.status.busy": "2024-04-27T08:47:41.491915Z",
     "iopub.status.idle": "2024-04-27T08:47:41.570986Z",
     "shell.execute_reply": "2024-04-27T08:47:41.569379Z"
    },
    "id": "JHfbWLDGEjOK",
    "papermill": {
     "duration": 0.103402,
     "end_time": "2024-04-27T08:47:41.574219",
     "exception": false,
     "start_time": "2024-04-27T08:47:41.470817",
     "status": "completed"
    },
    "tags": []
   },
   "outputs": [],
   "source": [
    "df.Description = df.Description.str.lower()\n",
    "df.Description = df.Description.replace('\\.', ' ', regex=True)\n",
    "df.Description = df.Description.replace(',',  ' ', regex=True)\n",
    "df.Description = df.Description.replace('-',  ' ', regex=True)"
   ]
  },
  {
   "cell_type": "code",
   "execution_count": 24,
   "id": "a896e476",
   "metadata": {
    "execution": {
     "iopub.execute_input": "2024-04-27T08:47:41.615655Z",
     "iopub.status.busy": "2024-04-27T08:47:41.615125Z",
     "iopub.status.idle": "2024-04-27T08:47:41.881546Z",
     "shell.execute_reply": "2024-04-27T08:47:41.880355Z"
    },
    "id": "0-UhoQCFEE4c",
    "outputId": "b56582dd-a817-4e52-e988-f5b4ade32f38",
    "papermill": {
     "duration": 0.290836,
     "end_time": "2024-04-27T08:47:41.885312",
     "exception": false,
     "start_time": "2024-04-27T08:47:41.594476",
     "status": "completed"
    },
    "tags": []
   },
   "outputs": [
    {
     "name": "stdout",
     "output_type": "stream",
     "text": [
      "the a and of to in is his with her\n",
      "for on an as he that by their from who\n",
      "this when they but life are she at one into\n",
      "has up new after it will love him story all\n",
      "world out young be about family two man them have\n",
      "find series time was friends most film you must old\n",
      "more through what get can where first home only not\n",
      "or years woman lives while girl which year back each\n",
      "help your other how day town over father own go\n",
      "best take together finds takes comedy no war make between\n"
     ]
    }
   ],
   "source": [
    "word_counts = df.Description.str.split().explode().value_counts()\n",
    "\n",
    "for i,w in enumerate(word_counts.nlargest(100).index, start=1):\n",
    "  print(w, end='\\n' if i % 10 == 0 else ' ')"
   ]
  },
  {
   "cell_type": "code",
   "execution_count": 25,
   "id": "025313e5",
   "metadata": {
    "execution": {
     "iopub.execute_input": "2024-04-27T08:47:41.924085Z",
     "iopub.status.busy": "2024-04-27T08:47:41.923564Z",
     "iopub.status.idle": "2024-04-27T08:47:42.221461Z",
     "shell.execute_reply": "2024-04-27T08:47:42.220394Z"
    },
    "id": "lxjncTHO2xAS",
    "outputId": "39b67c3c-ef06-4c5b-cffa-3e98507f6b35",
    "papermill": {
     "duration": 0.32068,
     "end_time": "2024-04-27T08:47:42.224439",
     "exception": false,
     "start_time": "2024-04-27T08:47:41.903759",
     "status": "completed"
    },
    "tags": []
   },
   "outputs": [
    {
     "data": {
      "text/html": [
       "<div>\n",
       "<style scoped>\n",
       "    .dataframe tbody tr th:only-of-type {\n",
       "        vertical-align: middle;\n",
       "    }\n",
       "\n",
       "    .dataframe tbody tr th {\n",
       "        vertical-align: top;\n",
       "    }\n",
       "\n",
       "    .dataframe thead th {\n",
       "        text-align: right;\n",
       "    }\n",
       "</style>\n",
       "<table border=\"1\" class=\"dataframe\">\n",
       "  <thead>\n",
       "    <tr style=\"text-align: right;\">\n",
       "      <th></th>\n",
       "      <th>Word</th>\n",
       "      <th>Parts of speech</th>\n",
       "      <th>OEC rank</th>\n",
       "      <th>COCA rank[9]</th>\n",
       "      <th>Dolch level</th>\n",
       "      <th>Polysemy</th>\n",
       "    </tr>\n",
       "  </thead>\n",
       "  <tbody>\n",
       "    <tr>\n",
       "      <th>0</th>\n",
       "      <td>the</td>\n",
       "      <td>Article</td>\n",
       "      <td>1</td>\n",
       "      <td>1</td>\n",
       "      <td>Pre-primer</td>\n",
       "      <td>12</td>\n",
       "    </tr>\n",
       "    <tr>\n",
       "      <th>1</th>\n",
       "      <td>be</td>\n",
       "      <td>Verb</td>\n",
       "      <td>2</td>\n",
       "      <td>2</td>\n",
       "      <td>Primer</td>\n",
       "      <td>21</td>\n",
       "    </tr>\n",
       "    <tr>\n",
       "      <th>2</th>\n",
       "      <td>to</td>\n",
       "      <td>Preposition</td>\n",
       "      <td>3</td>\n",
       "      <td>7, 9</td>\n",
       "      <td>Pre-primer</td>\n",
       "      <td>17</td>\n",
       "    </tr>\n",
       "    <tr>\n",
       "      <th>3</th>\n",
       "      <td>of</td>\n",
       "      <td>Preposition</td>\n",
       "      <td>4</td>\n",
       "      <td>4</td>\n",
       "      <td>Grade 1</td>\n",
       "      <td>12</td>\n",
       "    </tr>\n",
       "    <tr>\n",
       "      <th>4</th>\n",
       "      <td>and</td>\n",
       "      <td>Coordinator</td>\n",
       "      <td>5</td>\n",
       "      <td>3</td>\n",
       "      <td>Pre-primer</td>\n",
       "      <td>16</td>\n",
       "    </tr>\n",
       "  </tbody>\n",
       "</table>\n",
       "</div>"
      ],
      "text/plain": [
       "  Word Parts of speech OEC rank COCA rank[9] Dolch level  Polysemy\n",
       "0  the         Article        1            1  Pre-primer        12\n",
       "1   be            Verb        2            2      Primer        21\n",
       "2   to     Preposition        3         7, 9  Pre-primer        17\n",
       "3   of     Preposition        4            4     Grade 1        12\n",
       "4  and     Coordinator        5            3  Pre-primer        16"
      ]
     },
     "execution_count": 25,
     "metadata": {},
     "output_type": "execute_result"
    }
   ],
   "source": [
    "common = pd.read_html('https://en.wikipedia.org/wiki/Most_common_words_in_English')[0]\n",
    "common.head()"
   ]
  },
  {
   "cell_type": "code",
   "execution_count": 26,
   "id": "0efab65a",
   "metadata": {
    "execution": {
     "iopub.execute_input": "2024-04-27T08:47:42.265529Z",
     "iopub.status.busy": "2024-04-27T08:47:42.264879Z",
     "iopub.status.idle": "2024-04-27T08:47:42.287183Z",
     "shell.execute_reply": "2024-04-27T08:47:42.285676Z"
    },
    "id": "tHiNBaSA7y_L",
    "papermill": {
     "duration": 0.046719,
     "end_time": "2024-04-27T08:47:42.290522",
     "exception": false,
     "start_time": "2024-04-27T08:47:42.243803",
     "status": "completed"
    },
    "tags": []
   },
   "outputs": [],
   "source": [
    "word_counts = word_counts.reset_index()\n",
    "word_counts = word_counts[~word_counts.Description.isin(common.Word)]"
   ]
  },
  {
   "cell_type": "code",
   "execution_count": 27,
   "id": "b7e3d0b3",
   "metadata": {
    "execution": {
     "iopub.execute_input": "2024-04-27T08:47:42.432722Z",
     "iopub.status.busy": "2024-04-27T08:47:42.432230Z",
     "iopub.status.idle": "2024-04-27T08:47:42.459930Z",
     "shell.execute_reply": "2024-04-27T08:47:42.458520Z"
    },
    "id": "lVZCf6Up8BNd",
    "outputId": "764af164-c1fb-4bb7-c5ba-0e3fd7255d6b",
    "papermill": {
     "duration": 0.052572,
     "end_time": "2024-04-27T08:47:42.462806",
     "exception": false,
     "start_time": "2024-04-27T08:47:42.410234",
     "status": "completed"
    },
    "tags": []
   },
   "outputs": [
    {
     "data": {
      "text/html": [
       "<div>\n",
       "<style scoped>\n",
       "    .dataframe tbody tr th:only-of-type {\n",
       "        vertical-align: middle;\n",
       "    }\n",
       "\n",
       "    .dataframe tbody tr th {\n",
       "        vertical-align: top;\n",
       "    }\n",
       "\n",
       "    .dataframe thead th {\n",
       "        text-align: right;\n",
       "    }\n",
       "</style>\n",
       "<table border=\"1\" class=\"dataframe\">\n",
       "  <thead>\n",
       "    <tr style=\"text-align: right;\">\n",
       "      <th></th>\n",
       "      <th>Description</th>\n",
       "      <th>count</th>\n",
       "    </tr>\n",
       "  </thead>\n",
       "  <tbody>\n",
       "    <tr>\n",
       "      <th>6</th>\n",
       "      <td>is</td>\n",
       "      <td>5579</td>\n",
       "    </tr>\n",
       "    <tr>\n",
       "      <th>24</th>\n",
       "      <td>life</td>\n",
       "      <td>1492</td>\n",
       "    </tr>\n",
       "    <tr>\n",
       "      <th>25</th>\n",
       "      <td>are</td>\n",
       "      <td>1463</td>\n",
       "    </tr>\n",
       "    <tr>\n",
       "      <th>30</th>\n",
       "      <td>has</td>\n",
       "      <td>1161</td>\n",
       "    </tr>\n",
       "    <tr>\n",
       "      <th>36</th>\n",
       "      <td>love</td>\n",
       "      <td>1013</td>\n",
       "    </tr>\n",
       "    <tr>\n",
       "      <th>38</th>\n",
       "      <td>story</td>\n",
       "      <td>992</td>\n",
       "    </tr>\n",
       "    <tr>\n",
       "      <th>40</th>\n",
       "      <td>world</td>\n",
       "      <td>964</td>\n",
       "    </tr>\n",
       "    <tr>\n",
       "      <th>42</th>\n",
       "      <td>young</td>\n",
       "      <td>910</td>\n",
       "    </tr>\n",
       "    <tr>\n",
       "      <th>45</th>\n",
       "      <td>family</td>\n",
       "      <td>863</td>\n",
       "    </tr>\n",
       "    <tr>\n",
       "      <th>47</th>\n",
       "      <td>man</td>\n",
       "      <td>709</td>\n",
       "    </tr>\n",
       "    <tr>\n",
       "      <th>50</th>\n",
       "      <td>find</td>\n",
       "      <td>649</td>\n",
       "    </tr>\n",
       "    <tr>\n",
       "      <th>51</th>\n",
       "      <td>series</td>\n",
       "      <td>630</td>\n",
       "    </tr>\n",
       "    <tr>\n",
       "      <th>53</th>\n",
       "      <td>was</td>\n",
       "      <td>596</td>\n",
       "    </tr>\n",
       "    <tr>\n",
       "      <th>54</th>\n",
       "      <td>friends</td>\n",
       "      <td>592</td>\n",
       "    </tr>\n",
       "    <tr>\n",
       "      <th>56</th>\n",
       "      <td>film</td>\n",
       "      <td>582</td>\n",
       "    </tr>\n",
       "    <tr>\n",
       "      <th>58</th>\n",
       "      <td>must</td>\n",
       "      <td>558</td>\n",
       "    </tr>\n",
       "    <tr>\n",
       "      <th>59</th>\n",
       "      <td>old</td>\n",
       "      <td>551</td>\n",
       "    </tr>\n",
       "    <tr>\n",
       "      <th>60</th>\n",
       "      <td>more</td>\n",
       "      <td>536</td>\n",
       "    </tr>\n",
       "    <tr>\n",
       "      <th>61</th>\n",
       "      <td>through</td>\n",
       "      <td>533</td>\n",
       "    </tr>\n",
       "    <tr>\n",
       "      <th>65</th>\n",
       "      <td>where</td>\n",
       "      <td>484</td>\n",
       "    </tr>\n",
       "  </tbody>\n",
       "</table>\n",
       "</div>"
      ],
      "text/plain": [
       "   Description  count\n",
       "6           is   5579\n",
       "24        life   1492\n",
       "25         are   1463\n",
       "30         has   1161\n",
       "36        love   1013\n",
       "38       story    992\n",
       "40       world    964\n",
       "42       young    910\n",
       "45      family    863\n",
       "47         man    709\n",
       "50        find    649\n",
       "51      series    630\n",
       "53         was    596\n",
       "54     friends    592\n",
       "56        film    582\n",
       "58        must    558\n",
       "59         old    551\n",
       "60        more    536\n",
       "61     through    533\n",
       "65       where    484"
      ]
     },
     "execution_count": 27,
     "metadata": {},
     "output_type": "execute_result"
    }
   ],
   "source": [
    "word_counts = word_counts[~word_counts.Description.isin(common.Word)]\n",
    "word_counts.nlargest(20, 'count')"
   ]
  }
 ],
 "metadata": {
  "colab": {
   "provenance": []
  },
  "kaggle": {
   "accelerator": "none",
   "dataSources": [
    {
     "datasetId": 1643699,
     "sourceId": 2698943,
     "sourceType": "datasetVersion"
    }
   ],
   "dockerImageVersionId": 30698,
   "isGpuEnabled": false,
   "isInternetEnabled": true,
   "language": "python",
   "sourceType": "notebook"
  },
  "kernelspec": {
   "display_name": "Python 3",
   "name": "python3"
  },
  "language_info": {
   "codemirror_mode": {
    "name": "ipython",
    "version": 3
   },
   "file_extension": ".py",
   "mimetype": "text/x-python",
   "name": "python",
   "nbconvert_exporter": "python",
   "pygments_lexer": "ipython3",
   "version": "3.10.13"
  },
  "papermill": {
   "default_parameters": {},
   "duration": 35.694354,
   "end_time": "2024-04-27T08:47:43.309198",
   "environment_variables": {},
   "exception": null,
   "input_path": "__notebook__.ipynb",
   "output_path": "__notebook__.ipynb",
   "parameters": {},
   "start_time": "2024-04-27T08:47:07.614844",
   "version": "2.5.0"
  }
 },
 "nbformat": 4,
 "nbformat_minor": 5
}
